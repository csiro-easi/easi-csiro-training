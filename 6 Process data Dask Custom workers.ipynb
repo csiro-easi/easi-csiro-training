{
 "cells": [
  {
   "cell_type": "markdown",
   "id": "af2e9c40-9209-490c-8366-d0710d839caa",
   "metadata": {
    "editable": true,
    "slideshow": {
     "slide_type": ""
    },
    "tags": []
   },
   "source": [
    "## Example processing Sentinel-2 data with Dask (customized workers)\n",
    "- Customizing remote workers"
   ]
  },
  {
   "cell_type": "code",
   "execution_count": null,
   "id": "d7aa143e-c34f-4fae-a669-7da1ab3c7386",
   "metadata": {
    "editable": true,
    "slideshow": {
     "slide_type": ""
    },
    "tags": []
   },
   "outputs": [],
   "source": [
    "import datacube\n",
    "import datacube.utils.cog\n",
    "from dask_gateway import Gateway\n",
    "from dask.distributed import Client, WorkerPlugin\n",
    "import subprocess\n",
    "import sys\n",
    "import time\n",
    "import xarray as xr"
   ]
  },
  {
   "cell_type": "code",
   "execution_count": null,
   "id": "b0054378-1854-4518-9eb7-9e7745e9f6ed",
   "metadata": {
    "editable": true,
    "slideshow": {
     "slide_type": ""
    },
    "tags": []
   },
   "outputs": [],
   "source": [
    "# Initialise datacube\n",
    "\n",
    "dc = datacube.Datacube()"
   ]
  },
  {
   "cell_type": "code",
   "execution_count": null,
   "id": "762a0c84-1831-4f62-9ef0-190a2803e471",
   "metadata": {
    "editable": true,
    "slideshow": {
     "slide_type": ""
    },
    "tags": []
   },
   "outputs": [],
   "source": [
    "# (Central NSW)\n",
    "x_min, x_max = 1200000, 1300000  # 100km wide\n",
    "y_min, y_max = -3600000, -3700000  # 100km high\n",
    "date_range = (\"2024-01-01\", \"2024-02-28\")"
   ]
  },
  {
   "cell_type": "code",
   "execution_count": null,
   "id": "2017a457-9ce9-45c1-8823-71440a2fa66d",
   "metadata": {
    "editable": true,
    "slideshow": {
     "slide_type": ""
    },
    "tags": []
   },
   "outputs": [],
   "source": [
    "# Load datasets (lazy)\n",
    "\n",
    "product = \"ga_s2bm_ard_3\"  # Sentinel-2 B\n",
    "measurements = [\"nbart_red\", \"nbart_blue\", \"oa_s2cloudless_mask\"]\n",
    "output_crs = \"EPSG:3577\"\n",
    "resolution = [-30, 30]\n",
    "\n",
    "dask_chunks = {\n",
    "    \"time\": 1,  # Each time has its own chunk\n",
    "    \"y\": 500,  # Each tile is 500 pixels high\n",
    "    \"x\": 500  # Each tile is 500 pixels wide\n",
    "}\n",
    "\n",
    "ds = dc.load(product=product,\n",
    "             measurements=measurements,\n",
    "             crs=\"EPSG:3577\",\n",
    "             x=(x_min, x_max),\n",
    "             y=(y_min, y_max),\n",
    "             time=date_range,\n",
    "             output_crs=output_crs,\n",
    "             resolution=resolution,\n",
    "             dask_chunks=dask_chunks,\n",
    "             dataset_predicate=lambda ds: ds.metadata.dataset_maturity == \"final\",\n",
    "             skip_broken_datasets=True  # Important!\n",
    "             )"
   ]
  },
  {
   "cell_type": "code",
   "execution_count": null,
   "id": "6d24cd81-d13a-4db2-9112-2488a61cfeec",
   "metadata": {
    "editable": true,
    "slideshow": {
     "slide_type": ""
    },
    "tags": []
   },
   "outputs": [],
   "source": [
    "ds"
   ]
  },
  {
   "cell_type": "code",
   "execution_count": null,
   "id": "cf7997e8-5a14-48b3-8b3b-b79278cd7b37",
   "metadata": {
    "editable": true,
    "slideshow": {
     "slide_type": ""
    },
    "tags": []
   },
   "outputs": [],
   "source": [
    "class PipInstallerPlugin(WorkerPlugin):\n",
    "\n",
    "    def __init__(self, packages):\n",
    "        self.packages = packages\n",
    "\n",
    "    def setup(self, worker):\n",
    "        for package in self.packages:\n",
    "            subprocess.check_call([sys.executable, \"-m\", \"pip\", \"install\", package])"
   ]
  },
  {
   "cell_type": "code",
   "execution_count": null,
   "id": "52776e46-e56b-4bac-8aee-10aa1e4b6be7",
   "metadata": {
    "editable": true,
    "slideshow": {
     "slide_type": ""
    },
    "tags": []
   },
   "outputs": [],
   "source": [
    "# Start a remote Dask cluster\n",
    "\n",
    "gateway = Gateway()\n",
    "\n",
    "# List available cluster options (optional)\n",
    "print(gateway.list_clusters())\n",
    "\n",
    "options = gateway.cluster_options()\n",
    "\n",
    "options.worker_cores = 1\n",
    "options.worker_threads = 1\n",
    "options.worker_memory = 3  # (GB)\n",
    "\n",
    "# Create a new cluster\n",
    "cluster = gateway.new_cluster(cluster_options=options)\n",
    "\n",
    "# Scale workers (optional)\n",
    "num_workers = 4\n",
    "cluster.scale(num_workers)  # or .adapt(minimum=4, maximum=16)\n",
    "\n",
    "# Connect to it\n",
    "client = Client(cluster)\n",
    "\n",
    "# Dashboard link (optional)\n",
    "print(client.dashboard_link)\n",
    "\n",
    "# Create and register the plugin to install packages on all workers\n",
    "plugin = PipInstallerPlugin(packages=[\"PowerBlur\"])\n",
    "client.register_plugin(plugin)\n",
    "\n",
    "# Await cluster initialisation\n",
    "client.wait_for_workers(n_workers=num_workers)"
   ]
  },
  {
   "cell_type": "code",
   "execution_count": null,
   "id": "b914d096-ac9f-4d76-8a1e-12a8443dc195",
   "metadata": {},
   "outputs": [],
   "source": [
    "def process(ds: xr.Dataset):\n",
    "\n",
    "    import numpy as np\n",
    "\n",
    "    # Ensure ds is computed here\n",
    "    ds = ds.compute()\n",
    "\n",
    "    # Convert result to greyscale image\n",
    "\n",
    "    min_val = mean_ratio_da.min()\n",
    "    max_val = mean_ratio_da.max()\n",
    "\n",
    "    # Normalize to 0-1\n",
    "    da_norm = (mean_ratio_da - min_val) / (max_val - min_val)\n",
    "\n",
    "    # Scale to 0-255 and convert to uint8\n",
    "    da_uint8 = (da_norm * 255).astype(np.uint8)\n",
    "\n",
    "    from PIL import Image\n",
    "\n",
    "    # Convert to PIL Image\n",
    "    image = Image.fromarray(da_uint8.values)\n",
    "\n",
    "    # Blur image using package installed on workers\n",
    "\n",
    "    from io import BytesIO\n",
    "    import PowerBlur\n",
    "\n",
    "    width, height = image.size\n",
    "\n",
    "    # Apply the power blur effect\n",
    "    PowerBlur.power_blur(\n",
    "        image,\n",
    "        (int(width*0.1),\n",
    "         int(height*0.1),\n",
    "         int(width*0.9),\n",
    "         int(height*0.9))\n",
    "    )\n",
    "\n",
    "    buffer = BytesIO()\n",
    "    image.save(buffer, format=\"PNG\")\n",
    "\n",
    "    # Get the binary data\n",
    "    binary_data = buffer.getvalue()\n",
    "\n",
    "    return binary_data"
   ]
  },
  {
   "cell_type": "code",
   "execution_count": null,
   "id": "fc49ecae-f433-40d2-9d18-52758f047ae3",
   "metadata": {},
   "outputs": [],
   "source": [
    "# Define computation\n",
    "no_clouds_ds = ds.where(ds[\"oa_s2cloudless_mask\"] == 1)\n",
    "ratio_ds = no_clouds_ds[\"nbart_red\"] / no_clouds_ds[\"nbart_blue\"]\n",
    "mean_ratio_da = ratio_ds.mean(dim=\"time\", skipna=True)"
   ]
  },
  {
   "cell_type": "code",
   "execution_count": null,
   "id": "37936c6b-f145-4921-9224-5fac8cedb1e7",
   "metadata": {},
   "outputs": [],
   "source": [
    "# Start computation and save result on cluster\n",
    "mean_ratio_da = mean_ratio_da.persist()"
   ]
  },
  {
   "cell_type": "code",
   "execution_count": null,
   "id": "dba180ae-6b4a-49d5-8179-a9109263f155",
   "metadata": {
    "editable": true,
    "slideshow": {
     "slide_type": ""
    },
    "tags": []
   },
   "outputs": [],
   "source": [
    "# Run image blur on cluster\n",
    "future = client.submit(process, ds)"
   ]
  },
  {
   "cell_type": "code",
   "execution_count": null,
   "id": "c79945f5-1193-4fc9-a0d2-23c1e4068074",
   "metadata": {},
   "outputs": [],
   "source": [
    "%%time\n",
    "# Wait for all processing to finish\n",
    "result = future.result()"
   ]
  },
  {
   "cell_type": "code",
   "execution_count": null,
   "id": "bc9b71cf-7304-4067-904e-3116ab4ccdda",
   "metadata": {},
   "outputs": [],
   "source": [
    "# Write returned result to local disk\n",
    "with open(\"/home/jovyan/blurred.png\", \"wb\") as fo:\n",
    "    fo.write(result)"
   ]
  },
  {
   "cell_type": "code",
   "execution_count": null,
   "id": "c4024ba5-c50e-41cb-af35-dff804720a15",
   "metadata": {
    "editable": true,
    "slideshow": {
     "slide_type": ""
    },
    "tags": []
   },
   "outputs": [],
   "source": [
    "# Clean-up\n",
    "client.close()\n",
    "cluster.close(shutdown=True)"
   ]
  },
  {
   "cell_type": "code",
   "execution_count": null,
   "id": "4022f744-a8db-4cd4-adba-5d483b7d4ab3",
   "metadata": {},
   "outputs": [],
   "source": []
  }
 ],
 "metadata": {
  "kernelspec": {
   "display_name": "Python 3 (ipykernel)",
   "language": "python",
   "name": "python3"
  },
  "language_info": {
   "codemirror_mode": {
    "name": "ipython",
    "version": 3
   },
   "file_extension": ".py",
   "mimetype": "text/x-python",
   "name": "python",
   "nbconvert_exporter": "python",
   "pygments_lexer": "ipython3",
   "version": "3.12.11"
  }
 },
 "nbformat": 4,
 "nbformat_minor": 5
}
