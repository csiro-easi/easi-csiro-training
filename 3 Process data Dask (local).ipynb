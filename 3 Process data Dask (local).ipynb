{
 "cells": [
  {
   "cell_type": "markdown",
   "id": "439fca9f-b1e6-43f3-872b-3736b1e18b27",
   "metadata": {
    "editable": true,
    "slideshow": {
     "slide_type": ""
    },
    "tags": []
   },
   "source": [
    "## Example processing Sentinel-2 data with Dask (local cluster)"
   ]
  },
  {
   "cell_type": "code",
   "execution_count": null,
   "id": "12086de8-a65f-4ea0-8af3-8859cfb41734",
   "metadata": {
    "editable": true,
    "slideshow": {
     "slide_type": ""
    },
    "tags": []
   },
   "outputs": [],
   "source": [
    "import datacube\n",
    "from dask.distributed import Client, LocalCluster\n",
    "import matplotlib.pyplot as plt\n",
    "import time"
   ]
  },
  {
   "cell_type": "code",
   "execution_count": null,
   "id": "69ba1321-da3c-4af2-b350-491481d6ce19",
   "metadata": {
    "editable": true,
    "slideshow": {
     "slide_type": ""
    },
    "tags": []
   },
   "outputs": [],
   "source": [
    "# Initialise datacube\n",
    "\n",
    "dc = datacube.Datacube()"
   ]
  },
  {
   "cell_type": "code",
   "execution_count": null,
   "id": "dd88115b-cff5-4d1c-9ab2-3749b5f1ad99",
   "metadata": {
    "editable": true,
    "slideshow": {
     "slide_type": ""
    },
    "tags": []
   },
   "outputs": [],
   "source": [
    "# (Central NSW)\n",
    "x_min, x_max = 1200000, 1300000\n",
    "y_min, y_max = -3600000, -3700000\n",
    "date_range = (\"2024-01-01\", \"2024-02-28\")"
   ]
  },
  {
   "cell_type": "code",
   "execution_count": null,
   "id": "639dc6b7-fbb4-4a42-b23e-5980ef88a442",
   "metadata": {
    "editable": true,
    "slideshow": {
     "slide_type": ""
    },
    "tags": []
   },
   "outputs": [],
   "source": [
    "# Load datasets (lazy)\n",
    "\n",
    "product = \"ga_s2bm_ard_3\"  # Sentinel-2 B\n",
    "measurements = [\"nbart_red\", \"nbart_blue\", \"oa_s2cloudless_mask\"]\n",
    "output_crs = \"EPSG:3577\"\n",
    "resolution = [-30, 30]\n",
    "\n",
    "dask_chunks = {\n",
    "    \"time\": 1,\n",
    "    \"y\": 500,\n",
    "    \"x\": 500\n",
    "}\n",
    "\n",
    "ds = dc.load(product=product,\n",
    "             measurements=measurements,\n",
    "             crs=\"EPSG:3577\",\n",
    "             x=(x_min, x_max),\n",
    "             y=(y_min, y_max),\n",
    "             time=date_range,\n",
    "             output_crs=output_crs,\n",
    "             resolution=resolution,\n",
    "             dask_chunks=dask_chunks,\n",
    "             dataset_predicate=lambda ds: ds.metadata.dataset_maturity == \"final\",\n",
    "             skip_broken_datasets=True  # Important!\n",
    "             )"
   ]
  },
  {
   "cell_type": "code",
   "execution_count": null,
   "id": "37c74694-2a94-43a5-a1cc-d33076f7a241",
   "metadata": {
    "editable": true,
    "slideshow": {
     "slide_type": ""
    },
    "tags": []
   },
   "outputs": [],
   "source": [
    "# Define some computations\n",
    "\n",
    "no_clouds_ds = ds.where(ds[\"oa_s2cloudless_mask\"] == 1)\n",
    "ratio_ds = no_clouds_ds[\"nbart_red\"] / no_clouds_ds[\"nbart_blue\"]\n",
    "mean_ratio_ds = ratio_ds.mean(dim=\"time\", skipna=True)"
   ]
  },
  {
   "cell_type": "code",
   "execution_count": null,
   "id": "7ed40424-ee18-4e65-b196-5bcc99f03e1b",
   "metadata": {
    "editable": true,
    "slideshow": {
     "slide_type": ""
    },
    "tags": []
   },
   "outputs": [],
   "source": [
    "# Start a local Dask cluster\n",
    "\n",
    "cluster = LocalCluster()\n",
    "client = Client(cluster)\n",
    "\n",
    "# Optional: View the dashboard URL\n",
    "print(client.dashboard_link)"
   ]
  },
  {
   "cell_type": "code",
   "execution_count": null,
   "id": "850531c8-6593-479e-84f2-0c05b26ac193",
   "metadata": {
    "editable": true,
    "slideshow": {
     "slide_type": ""
    },
    "tags": []
   },
   "outputs": [],
   "source": [
    "%%time\n",
    "mean_ratio_ds = mean_ratio_ds.compute()"
   ]
  },
  {
   "cell_type": "code",
   "execution_count": null,
   "id": "02b9b03b-0eb6-4be0-b19e-604ffd45dde6",
   "metadata": {},
   "outputs": [],
   "source": [
    "# Clean-up\n",
    "client.close()\n",
    "cluster.close()"
   ]
  },
  {
   "cell_type": "code",
   "execution_count": null,
   "id": "7d5e76d7-0895-4940-a1c3-5d40c529fd78",
   "metadata": {},
   "outputs": [],
   "source": [
    "mean_ratio_ds"
   ]
  },
  {
   "cell_type": "code",
   "execution_count": null,
   "id": "6c5a3c2e-bb6c-4d59-84d6-849b5c93f2ba",
   "metadata": {
    "editable": true,
    "slideshow": {
     "slide_type": ""
    },
    "tags": []
   },
   "outputs": [],
   "source": [
    "# Visualise mean ratio dataset\n",
    "\n",
    "band = mean_ratio_ds\n",
    "\n",
    "# Plot with xarray’s wrapper around matplotlib\n",
    "band.plot.imshow(cmap=\"viridis\")  # or cmap='gray', 'RdYlGn', etc.\n",
    "plt.title(\"Result\")\n",
    "plt.xlabel(\"x\")\n",
    "plt.ylabel(\"y\")\n",
    "plt.show()"
   ]
  }
 ],
 "metadata": {
  "kernelspec": {
   "display_name": "Python 3 (ipykernel)",
   "language": "python",
   "name": "python3"
  },
  "language_info": {
   "codemirror_mode": {
    "name": "ipython",
    "version": 3
   },
   "file_extension": ".py",
   "mimetype": "text/x-python",
   "name": "python",
   "nbconvert_exporter": "python",
   "pygments_lexer": "ipython3",
   "version": "3.12.11"
  }
 },
 "nbformat": 4,
 "nbformat_minor": 5
}
