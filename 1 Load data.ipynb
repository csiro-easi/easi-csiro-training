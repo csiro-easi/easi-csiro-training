{
 "cells": [
  {
   "cell_type": "markdown",
   "id": "4e5d9e60-feff-42dc-b0e3-4627f2d6ab6a",
   "metadata": {},
   "source": [
    "## Example loading Landsat and Sentinel-2"
   ]
  },
  {
   "cell_type": "code",
   "execution_count": null,
   "id": "62c61144-85f6-448c-bfa7-91c387f43f75",
   "metadata": {
    "editable": true,
    "slideshow": {
     "slide_type": ""
    },
    "tags": []
   },
   "outputs": [],
   "source": [
    "import datacube\n",
    "from pyproj import Transformer\n",
    "import matplotlib.pyplot as plt"
   ]
  },
  {
   "cell_type": "markdown",
   "id": "b49885e1-67e8-4b4f-85a5-395b1fd5a590",
   "metadata": {},
   "source": [
    "### Landsat products:\n",
    "\n",
    "- ga_ls5t_ard_3 (1986 - 2011) [decommissioned]\n",
    "- ga_ls7e_ard_3 (1999 - 2022) [decommissioned]\n",
    "- ga_ls8c_ard_3 (2013 - current)\n",
    "- ga_ls9c_ard_3 (2021 - current)\n",
    "\n",
    "### Sentinel-2 products:\n",
    "\n",
    "- ga_s2am_ard_3 (2015 - 2025) [decommissioned]\n",
    "- ga_s2bm_ard_3 (2017 - current)\n",
    "- ga_s2cm_ard_3 (2025 - current)"
   ]
  },
  {
   "cell_type": "code",
   "execution_count": null,
   "id": "4c5057d9-0572-41c6-8a85-9e6ccb52748e",
   "metadata": {
    "editable": true,
    "slideshow": {
     "slide_type": ""
    },
    "tags": []
   },
   "outputs": [],
   "source": [
    "# Initialise datacube\n",
    "\n",
    "dc = datacube.Datacube()"
   ]
  },
  {
   "cell_type": "code",
   "execution_count": null,
   "id": "a921f24f-423f-4247-9f49-29559a06ac59",
   "metadata": {
    "editable": true,
    "slideshow": {
     "slide_type": ""
    },
    "tags": []
   },
   "outputs": [],
   "source": [
    "# Transform search coordinates from EPSG:3577 to EPSG:4326\n",
    "# (Datacube searches are typically done in EPGS:4326)\n",
    "\n",
    "# Define transformer from your CRS to WGS84\n",
    "transformer = Transformer.from_crs(\"EPSG:3577\", \"EPSG:4326\", always_xy=True)\n",
    "\n",
    "# Example: reproject bounding box from EPSG:28355 to EPSG:4326\n",
    "# (Central NSW)\n",
    "x_min, x_max = 1300000, 1305000\n",
    "y_min, y_max = -3700000, -3705000\n",
    "\n",
    "lon_min, lat_min = transformer.transform(x_min, y_min)\n",
    "lon_max, lat_max = transformer.transform(x_max, y_max)"
   ]
  },
  {
   "cell_type": "code",
   "execution_count": null,
   "id": "0c02a396-9353-4e7b-beee-a2b5e15e1d0d",
   "metadata": {
    "editable": true,
    "slideshow": {
     "slide_type": ""
    },
    "tags": []
   },
   "outputs": [],
   "source": [
    "# Define search criteria (time and space)\n",
    "\n",
    "longitude = (lon_min, lon_max)\n",
    "latitude = (lat_min, lat_max)\n",
    "time = (\"2024-01-01\", \"2024-01-07\")"
   ]
  },
  {
   "cell_type": "code",
   "execution_count": null,
   "id": "5b576594-79ab-4e5b-a09f-a6e66449fe1e",
   "metadata": {},
   "outputs": [],
   "source": [
    "# Find datasets\n",
    "\n",
    "datasets = dc.find_datasets(\n",
    "    product=\"ga_ls8c_ard_3\",\n",
    "    longitude=longitude,\n",
    "    latitude=latitude,\n",
    "    time=time\n",
    ")"
   ]
  },
  {
   "cell_type": "code",
   "execution_count": null,
   "id": "94dac7f2-8314-496c-baf0-1dd44ba38a09",
   "metadata": {},
   "outputs": [],
   "source": [
    "print(f\"Number of datasets found: {len(datasets)}\")"
   ]
  },
  {
   "cell_type": "code",
   "execution_count": null,
   "id": "e503ef77-c3b3-4f3b-b6ca-e29e2aef7b45",
   "metadata": {},
   "outputs": [],
   "source": [
    "datasets"
   ]
  },
  {
   "cell_type": "code",
   "execution_count": null,
   "id": "14bb3c49-0dcc-430d-8c74-8198617e608a",
   "metadata": {},
   "outputs": [],
   "source": [
    "# Load datasets (lazy)\n",
    "\n",
    "product = \"ga_ls8c_ard_3\"  # landsat 8\n",
    "measurements = [\"nbart_red\", \"nbart_blue\"]\n",
    "output_crs = \"EPSG:3577\"\n",
    "resolution = [-30, 30]\n",
    "\n",
    "dask_chunks = {\n",
    "    \"time\": 1,\n",
    "    \"y\": 500,\n",
    "    \"x\": 500\n",
    "}\n",
    "\n",
    "ds = dc.load(product=product,\n",
    "             measurements=measurements,\n",
    "             #datasets=datasets,  # Can pass in dataset/s instead of x,y,time if you want the whole tile instead.\n",
    "             crs=\"EPSG:3577\",\n",
    "             x=(x_min, x_max),\n",
    "             y=(y_min, y_max),\n",
    "             time=time,\n",
    "             output_crs=output_crs,\n",
    "             resolution=resolution,\n",
    "             dask_chunks=dask_chunks,\n",
    "             skip_broken_datasets=True  # Important!\n",
    "             )"
   ]
  },
  {
   "cell_type": "code",
   "execution_count": null,
   "id": "75c86aa4-6b04-4525-9cdd-c9af9e516f6a",
   "metadata": {},
   "outputs": [],
   "source": [
    "ds"
   ]
  },
  {
   "cell_type": "code",
   "execution_count": null,
   "id": "ebba7818-d605-4834-a7a2-a266753a3150",
   "metadata": {},
   "outputs": [],
   "source": [
    "# Compute (load data into memory)\n",
    "\n",
    "ds = ds.compute()"
   ]
  },
  {
   "cell_type": "code",
   "execution_count": null,
   "id": "096804d9-b841-4668-a9a3-5b5bfc042831",
   "metadata": {},
   "outputs": [],
   "source": [
    "ds"
   ]
  },
  {
   "cell_type": "code",
   "execution_count": null,
   "id": "6b035ddb-5f6e-42ea-84b5-012edab17bed",
   "metadata": {
    "editable": true,
    "slideshow": {
     "slide_type": ""
    },
    "tags": []
   },
   "outputs": [],
   "source": [
    "# Visualise dataset\n",
    "\n",
    "band = ds[\"nbart_red\"].isel(time=0)\n",
    "\n",
    "# Plot with xarray’s wrapper around matplotlib\n",
    "band.plot.imshow(cmap=\"viridis\")  # or cmap='gray', 'RdYlGn', etc.\n",
    "plt.title(\"Red Band\")\n",
    "plt.xlabel(\"x\")\n",
    "plt.ylabel(\"y\")\n",
    "plt.show()"
   ]
  },
  {
   "cell_type": "code",
   "execution_count": null,
   "id": "a62c049b-6bfd-458d-a387-51d62e308d18",
   "metadata": {},
   "outputs": [],
   "source": []
  }
 ],
 "metadata": {
  "kernelspec": {
   "display_name": "Python 3 (ipykernel)",
   "language": "python",
   "name": "python3"
  },
  "language_info": {
   "codemirror_mode": {
    "name": "ipython",
    "version": 3
   },
   "file_extension": ".py",
   "mimetype": "text/x-python",
   "name": "python",
   "nbconvert_exporter": "python",
   "pygments_lexer": "ipython3",
   "version": "3.12.11"
  }
 },
 "nbformat": 4,
 "nbformat_minor": 5
}
