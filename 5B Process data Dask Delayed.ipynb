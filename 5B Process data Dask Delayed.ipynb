{
 "cells": [
  {
   "cell_type": "markdown",
   "id": "f7cf1ed4-bc94-44e1-abb2-9fd95125c69e",
   "metadata": {
    "editable": true,
    "slideshow": {
     "slide_type": ""
    },
    "tags": []
   },
   "source": [
    "## Example processing Sentinel-2 data with Dask Delayed"
   ]
  },
  {
   "cell_type": "code",
   "execution_count": null,
   "id": "e5f9ea2d-9d9b-4c75-b459-d89c96424579",
   "metadata": {
    "editable": true,
    "slideshow": {
     "slide_type": ""
    },
    "tags": []
   },
   "outputs": [],
   "source": [
    "import datacube\n",
    "from dask import delayed\n",
    "from dask.distributed import Client, LocalCluster\n",
    "import matplotlib.pyplot as plt\n",
    "from odc.geo import CRS, Resolution, xy_\n",
    "from odc.geo.geobox import GeoBox\n",
    "from odc.geo.gridspec import GridSpec\n",
    "import time\n",
    "import xarray as xr\n",
    "from typing import List, Tuple"
   ]
  },
  {
   "cell_type": "code",
   "execution_count": null,
   "id": "eb27e710-636b-4729-9c87-5150df962f3e",
   "metadata": {
    "editable": true,
    "slideshow": {
     "slide_type": ""
    },
    "tags": []
   },
   "outputs": [],
   "source": [
    "# Initialise datacube\n",
    "\n",
    "dc = datacube.Datacube()"
   ]
  },
  {
   "cell_type": "code",
   "execution_count": null,
   "id": "2e4b2dfd-ae4c-4565-9b0b-8a475fab3185",
   "metadata": {
    "editable": true,
    "slideshow": {
     "slide_type": ""
    },
    "tags": []
   },
   "outputs": [],
   "source": [
    "# (Central NSW)\n",
    "x_min, x_max = 1200000, 1300000  # 100km wide\n",
    "y_min, y_max = -3600000, -3700000  # 100km high\n",
    "date_range = (\"2024-01-01\", \"2024-02-28\")"
   ]
  },
  {
   "cell_type": "code",
   "execution_count": null,
   "id": "3e62ba7e-7d1a-45fc-9c0a-171bb7c3fbb2",
   "metadata": {
    "editable": true,
    "slideshow": {
     "slide_type": ""
    },
    "tags": []
   },
   "outputs": [],
   "source": [
    "# Load datasets (lazy)\n",
    "\n",
    "product = \"ga_s2bm_ard_3\"  # Sentinel-2 B\n",
    "measurements = [\"nbart_red\", \"nbart_blue\", \"oa_s2cloudless_mask\"]\n",
    "output_crs = \"EPSG:3577\"\n",
    "resolution = [-30, 30]\n",
    "\n",
    "dask_chunks = {\n",
    "    \"time\": 1,  # Each time has its own chunk\n",
    "    \"y\": 500,  # Each tile is 500 pixels high\n",
    "    \"x\": 500  # Each tile is 500 pixels wide\n",
    "}\n",
    "\n",
    "ds = dc.load(product=product,\n",
    "             measurements=measurements,\n",
    "             crs=\"EPSG:3577\",\n",
    "             x=(x_min, x_max),\n",
    "             y=(y_min, y_max),\n",
    "             time=date_range,\n",
    "             output_crs=output_crs,\n",
    "             resolution=resolution,\n",
    "             dask_chunks=dask_chunks,\n",
    "             dataset_predicate=lambda ds: ds.metadata.dataset_maturity == \"final\",\n",
    "             skip_broken_datasets=True  # Important!\n",
    "             )"
   ]
  },
  {
   "cell_type": "code",
   "execution_count": null,
   "id": "79a8eb26-3f8f-4247-9ab8-65cb86b3271e",
   "metadata": {
    "editable": true,
    "slideshow": {
     "slide_type": ""
    },
    "tags": []
   },
   "outputs": [],
   "source": [
    "ds"
   ]
  },
  {
   "cell_type": "code",
   "execution_count": null,
   "id": "b12bc74e-0590-4775-a30e-060cb26c0b5e",
   "metadata": {
    "editable": true,
    "slideshow": {
     "slide_type": ""
    },
    "tags": []
   },
   "outputs": [],
   "source": [
    "# Break-up job into smaller tiles for distribution on cluster\n",
    "\n",
    "# Note: Adjustment of 15m in origin is because coordinates in dataset are\n",
    "# pixel centers, whereas origin wants pixel edge. So need to correct by\n",
    "# half a pixel width/height.\n",
    "HALF_PIXEL_WIDTH = 15\n",
    "gridspec = GridSpec(\n",
    "    crs=CRS(\"EPSG:3577\"),\n",
    "    tile_shape=(500, 500),  # 500x500 pixels\n",
    "    resolution=Resolution(30, -30),  # Pixel resolution (meters)\n",
    "    origin=xy_(ds.x.data[0]-HALF_PIXEL_WIDTH,\n",
    "               ds.y.data[0]+HALF_PIXEL_WIDTH),\n",
    "    flipy=True\n",
    ")\n",
    "\n",
    "# Get the geobox\n",
    "geobox = ds.odc.geobox\n",
    "\n",
    "# Use GridSpec.tiles() to get tile keys intersecting the dataset\n",
    "tile_keys = list(gridspec.tiles(geobox.boundingbox))"
   ]
  },
  {
   "cell_type": "code",
   "execution_count": null,
   "id": "33d433ca-8c05-4874-9572-ec639b8579a0",
   "metadata": {},
   "outputs": [],
   "source": [
    "len(tile_keys)  # 49 = 7x7"
   ]
  },
  {
   "cell_type": "code",
   "execution_count": null,
   "id": "8157f557-4c42-4377-b0cb-2dbb231c9903",
   "metadata": {},
   "outputs": [],
   "source": [
    "HALF_PIXEL_WIDTH = 15\n",
    "tiles = []\n",
    "for tk in tile_keys:\n",
    "    ident = tk[0]\n",
    "    geobox = tk[1]\n",
    "    bbox = geobox.extent.boundingbox\n",
    "\n",
    "    tile = ds.sel(\n",
    "        x=slice(bbox.left+HALF_PIXEL_WIDTH, bbox.right-HALF_PIXEL_WIDTH),\n",
    "        y=slice(bbox.top-HALF_PIXEL_WIDTH, bbox.bottom+HALF_PIXEL_WIDTH)\n",
    "    )\n",
    "    tiles.append(tile)"
   ]
  },
  {
   "cell_type": "code",
   "execution_count": null,
   "id": "71a197f1-8f84-41f1-a4e8-e170af039d77",
   "metadata": {},
   "outputs": [],
   "source": [
    "@delayed\n",
    "def process_tile(\n",
    "    tile_ds: xr.Dataset\n",
    ") -> xr.Dataset:\n",
    "    \"\"\"\n",
    "    Process tile\n",
    "    \"\"\"\n",
    "\n",
    "    # Define computations\n",
    "    tile_no_clouds_ds = tile_ds.where(tile_ds[\"oa_s2cloudless_mask\"] == 1)\n",
    "    tile_ratio_ds = tile_no_clouds_ds[\"nbart_red\"] / tile_no_clouds_ds[\"nbart_blue\"]\n",
    "    tile_mean_ratio_ds = tile_ratio_ds.mean(dim=\"time\", skipna=True)\n",
    "\n",
    "    # Possible other code that runs when this function is executed (not-lazyily)\n",
    "\n",
    "    # Return result\n",
    "    return tile_mean_ratio_ds"
   ]
  },
  {
   "cell_type": "code",
   "execution_count": null,
   "id": "112aa1bc-63c9-4a90-9f0b-dd400c780e3a",
   "metadata": {
    "editable": true,
    "slideshow": {
     "slide_type": ""
    },
    "tags": []
   },
   "outputs": [],
   "source": [
    "# Start a local Dask cluster\n",
    "\n",
    "cluster = LocalCluster()\n",
    "client = Client(cluster)\n",
    "\n",
    "# Optional: View the dashboard URL\n",
    "print(client.dashboard_link)"
   ]
  },
  {
   "cell_type": "code",
   "execution_count": null,
   "id": "843598cc-2bab-4013-b69f-9bbaed46c18e",
   "metadata": {},
   "outputs": [],
   "source": [
    "delayed_tiles = [process_tile(t) for t in tiles]"
   ]
  },
  {
   "cell_type": "code",
   "execution_count": null,
   "id": "9b791281-b6d4-47a6-b511-a91e477c09ab",
   "metadata": {},
   "outputs": [],
   "source": [
    "futures = client.compute(delayed_tiles)"
   ]
  },
  {
   "cell_type": "code",
   "execution_count": null,
   "id": "21bbd339-56c2-4695-96a8-8700a72355da",
   "metadata": {
    "editable": true,
    "slideshow": {
     "slide_type": ""
    },
    "tags": []
   },
   "outputs": [],
   "source": [
    "%%time\n",
    "processed_tiles = client.gather(futures)"
   ]
  },
  {
   "cell_type": "code",
   "execution_count": null,
   "id": "ac1ae510-90c2-49a9-bc0c-2510f948adee",
   "metadata": {},
   "outputs": [],
   "source": [
    "# Clean-up\n",
    "client.close()\n",
    "cluster.close()"
   ]
  },
  {
   "cell_type": "code",
   "execution_count": null,
   "id": "ffbdde31-41d7-4bde-acbe-3b67c7ee2784",
   "metadata": {
    "editable": true,
    "slideshow": {
     "slide_type": ""
    },
    "tags": []
   },
   "outputs": [],
   "source": [
    "result_ds = xr.combine_by_coords(processed_tiles)"
   ]
  },
  {
   "cell_type": "code",
   "execution_count": null,
   "id": "7fb08157-5f46-41cf-b5d8-9b37cebf8998",
   "metadata": {
    "editable": true,
    "slideshow": {
     "slide_type": ""
    },
    "tags": []
   },
   "outputs": [],
   "source": [
    "result_ds"
   ]
  },
  {
   "cell_type": "code",
   "execution_count": null,
   "id": "c028d4b6-f3ee-4ad5-9040-5fc902676a4e",
   "metadata": {
    "editable": true,
    "slideshow": {
     "slide_type": ""
    },
    "tags": []
   },
   "outputs": [],
   "source": [
    "# Visualise mean ratio dataset\n",
    "\n",
    "band = result_ds\n",
    "\n",
    "# Plot with xarray’s wrapper around matplotlib\n",
    "band.plot.imshow(cmap=\"viridis\")  # or cmap='gray', 'RdYlGn', etc.\n",
    "plt.title(\"Result\")\n",
    "plt.xlabel(\"x\")\n",
    "plt.ylabel(\"y\")\n",
    "plt.show()"
   ]
  },
  {
   "cell_type": "code",
   "execution_count": null,
   "id": "9e0678df-338b-4495-9acb-9af9b786e691",
   "metadata": {},
   "outputs": [],
   "source": []
  }
 ],
 "metadata": {
  "kernelspec": {
   "display_name": "Python 3 (ipykernel)",
   "language": "python",
   "name": "python3"
  },
  "language_info": {
   "codemirror_mode": {
    "name": "ipython",
    "version": 3
   },
   "file_extension": ".py",
   "mimetype": "text/x-python",
   "name": "python",
   "nbconvert_exporter": "python",
   "pygments_lexer": "ipython3",
   "version": "3.12.11"
  }
 },
 "nbformat": 4,
 "nbformat_minor": 5
}
