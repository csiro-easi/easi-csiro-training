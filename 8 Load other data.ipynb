{
 "cells": [
  {
   "cell_type": "markdown",
   "id": "8431df43-c08f-40c2-8760-9ff5864e9e76",
   "metadata": {},
   "source": [
    "## Loading data from outside EASI OpenDataCube"
   ]
  },
  {
   "cell_type": "markdown",
   "id": "7f98e654-084f-4856-86cd-104d98dc39d3",
   "metadata": {},
   "source": [
    "### NetCDF using OPeNDAP THREDDS"
   ]
  },
  {
   "cell_type": "code",
   "execution_count": null,
   "id": "c5f9c939-730a-4821-bf9a-0556d3c69fbf",
   "metadata": {},
   "outputs": [],
   "source": [
    "import s3fs\n",
    "import xarray as xr"
   ]
  },
  {
   "cell_type": "code",
   "execution_count": null,
   "id": "9e30a96e-5cc2-4555-8779-9d4cd563c263",
   "metadata": {},
   "outputs": [],
   "source": [
    "# BARRA2_THREDDS_CATALOG = \"https://thredds.nci.org.au/thredds/catalog/catalogs/ob53/catalog.html\""
   ]
  },
  {
   "cell_type": "code",
   "execution_count": null,
   "id": "52524faf-30fc-4d1a-a89f-6b3981328508",
   "metadata": {},
   "outputs": [],
   "source": [
    "# Can use links to OPeNDAP NetCDF files\n",
    "BARRA2_THREDDS_URL = \"https://thredds.nci.org.au/thredds/dodsC/ob53/output/reanalysis/AUST-11/BOM/ERA5/historical/hres/BARRA-R2/v1/day/CAPE/latest/CAPE_AUST-11_ERA5_historical_hres_BOM_BARRA-R2_v1_day_202505-202505.nc\""
   ]
  },
  {
   "cell_type": "code",
   "execution_count": null,
   "id": "d0538ed0-dc78-46c2-a2a1-0f95913ff347",
   "metadata": {},
   "outputs": [],
   "source": [
    "ds = xr.open_dataset(BARRA2_THREDDS_URL, chunks={\"time\": 1, \"lat\": 100, \"lon\": 100})\n",
    "# Or for automatic chunking:\n",
    "# ds = xr.open_dataset(BARRA2_THREDDS_URL, chunks=\"auto\")"
   ]
  },
  {
   "cell_type": "code",
   "execution_count": null,
   "id": "59ab2cd8-1d1c-4727-817e-97d4286b95e6",
   "metadata": {},
   "outputs": [],
   "source": [
    "ds"
   ]
  },
  {
   "cell_type": "code",
   "execution_count": null,
   "id": "6882f232-7800-45f7-a61b-fec31db2f7b5",
   "metadata": {},
   "outputs": [],
   "source": [
    "ds_subset = ds.isel(time=0)"
   ]
  },
  {
   "cell_type": "code",
   "execution_count": null,
   "id": "7f989a96-1410-4145-8edd-f1a3d292b975",
   "metadata": {},
   "outputs": [],
   "source": [
    "ds_subset"
   ]
  },
  {
   "cell_type": "code",
   "execution_count": null,
   "id": "7988b43e-00df-42bd-9353-35a26bc338d6",
   "metadata": {},
   "outputs": [],
   "source": [
    "ds_subset = ds_subset.compute()"
   ]
  },
  {
   "cell_type": "code",
   "execution_count": null,
   "id": "0277af7f-0bce-45ca-8016-2744ae54879d",
   "metadata": {},
   "outputs": [],
   "source": [
    "ds_subset"
   ]
  },
  {
   "cell_type": "code",
   "execution_count": null,
   "id": "05b71b16-eaf9-4540-b6be-085a9c02d71a",
   "metadata": {},
   "outputs": [],
   "source": [
    "ds_subset[\"CAPE\"].data"
   ]
  },
  {
   "cell_type": "markdown",
   "id": "f8ad5d9f-b1e8-4cab-aeb2-d4b65e011614",
   "metadata": {},
   "source": [
    "### NetCDF from S3"
   ]
  },
  {
   "cell_type": "raw",
   "id": "260ccceb-725b-4c11-a325-b5759b250c13",
   "metadata": {},
   "source": [
    "Note: Lazy loading not supported when reading NetCDF files via S3 or HTTP/S,\n",
    "      so entire file is downloaded behind the scenes first!\n",
    "\n",
    "So to use this type of data you have two choices:\n",
    "1. Download the data you need and convert it to a cloud friendly format for analysis.\n",
    "2. Download entire netcdf file/s on demand from S3 during processing job,\n",
    "   ensuring that downloads are happening on worker nodes where that data is needed\n",
    "   and not funneling it/them all through the client machine."
   ]
  },
  {
   "cell_type": "code",
   "execution_count": null,
   "id": "b2cd3a4a-bfaf-437b-b405-c65ecd607d5d",
   "metadata": {},
   "outputs": [],
   "source": [
    "ERA5_BUCKET = \"nsf-ncar-era5\"\n",
    "ERA5_KEY = \"e5.oper.fc.sfc.minmax/202506/e5.oper.fc.sfc.minmax.228_227_mntpr.ll025sc.2025061606_2025070106.nc\""
   ]
  },
  {
   "cell_type": "code",
   "execution_count": null,
   "id": "441c96c2-99dc-4daf-8a2c-13247eab0695",
   "metadata": {},
   "outputs": [],
   "source": [
    "storage_options = {\n",
    "    \"anon\": True,            # or True if the bucket is public\n",
    "    \"client_kwargs\": {\n",
    "        \"region_name\": \"us-west-2\"  # Change this to your desired region\n",
    "    }\n",
    "}\n",
    "\n",
    "# Initialize S3FileSystem (use anon=True for public buckets)\n",
    "fs_s3 = s3fs.S3FileSystem(**storage_options)\n",
    "\n",
    "# Define the path to your NetCDF file on S3\n",
    "s3_path = f\"{ERA5_BUCKET}/{ERA5_KEY}\"\n",
    "\n",
    "# Open the remote file as a file-like object\n",
    "remote_file_obj = fs_s3.open(s3_path, mode=\"rb\")\n",
    "\n",
    "# Open the dataset with xarray, enabling lazy loading\n",
    "ds = xr.open_dataset(remote_file_obj, chunks=\"auto\", engine=\"h5netcdf\")"
   ]
  },
  {
   "cell_type": "code",
   "execution_count": null,
   "id": "30eb7890-0feb-4314-bf72-d24a8f120feb",
   "metadata": {},
   "outputs": [],
   "source": [
    "ds"
   ]
  },
  {
   "cell_type": "code",
   "execution_count": null,
   "id": "6e9deb84-a779-40be-be13-68181c13d47c",
   "metadata": {},
   "outputs": [],
   "source": [
    "ds_subset = ds.isel(forecast_initial_time=0, forecast_hour=0)[\"MNTPR\"].compute()"
   ]
  },
  {
   "cell_type": "code",
   "execution_count": null,
   "id": "6aedbeac-235f-4c40-9d48-403878118cd9",
   "metadata": {},
   "outputs": [],
   "source": [
    "ds_subset"
   ]
  },
  {
   "cell_type": "code",
   "execution_count": null,
   "id": "594193f7-eb96-4320-a285-707c87c91a61",
   "metadata": {},
   "outputs": [],
   "source": []
  }
 ],
 "metadata": {
  "kernelspec": {
   "display_name": "Python 3 (ipykernel)",
   "language": "python",
   "name": "python3"
  },
  "language_info": {
   "codemirror_mode": {
    "name": "ipython",
    "version": 3
   },
   "file_extension": ".py",
   "mimetype": "text/x-python",
   "name": "python",
   "nbconvert_exporter": "python",
   "pygments_lexer": "ipython3",
   "version": "3.12.11"
  }
 },
 "nbformat": 4,
 "nbformat_minor": 5
}
