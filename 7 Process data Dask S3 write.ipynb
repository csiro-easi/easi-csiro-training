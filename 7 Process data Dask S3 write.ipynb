{
 "cells": [
  {
   "cell_type": "markdown",
   "id": "af2e9c40-9209-490c-8366-d0710d839caa",
   "metadata": {
    "editable": true,
    "slideshow": {
     "slide_type": ""
    },
    "tags": []
   },
   "source": [
    "## Example processing Sentinel-2 data with Dask (S3 write)\n",
    "- Writing results directly to S3"
   ]
  },
  {
   "cell_type": "code",
   "execution_count": null,
   "id": "d7aa143e-c34f-4fae-a669-7da1ab3c7386",
   "metadata": {
    "editable": true,
    "slideshow": {
     "slide_type": ""
    },
    "tags": []
   },
   "outputs": [],
   "source": [
    "import boto3\n",
    "import datacube\n",
    "import datacube.utils.cog\n",
    "from dask import delayed\n",
    "from dask_gateway import Gateway\n",
    "from dask.distributed import Client\n",
    "import matplotlib.pyplot as plt\n",
    "import os\n",
    "import time\n",
    "from typing import Dict\n",
    "import xarray as xr"
   ]
  },
  {
   "cell_type": "code",
   "execution_count": null,
   "id": "b0054378-1854-4518-9eb7-9e7745e9f6ed",
   "metadata": {
    "editable": true,
    "slideshow": {
     "slide_type": ""
    },
    "tags": []
   },
   "outputs": [],
   "source": [
    "# Initialise datacube\n",
    "\n",
    "dc = datacube.Datacube()"
   ]
  },
  {
   "cell_type": "code",
   "execution_count": null,
   "id": "762a0c84-1831-4f62-9ef0-190a2803e471",
   "metadata": {
    "editable": true,
    "slideshow": {
     "slide_type": ""
    },
    "tags": []
   },
   "outputs": [],
   "source": [
    "# (Central NSW)\n",
    "x_min, x_max = 1200000, 1300000  # 100km wide\n",
    "y_min, y_max = -3600000, -3700000  # 100km high\n",
    "date_range = (\"2024-01-01\", \"2024-02-28\")"
   ]
  },
  {
   "cell_type": "code",
   "execution_count": null,
   "id": "2017a457-9ce9-45c1-8823-71440a2fa66d",
   "metadata": {
    "editable": true,
    "slideshow": {
     "slide_type": ""
    },
    "tags": []
   },
   "outputs": [],
   "source": [
    "# Load datasets (lazy)\n",
    "\n",
    "product = \"ga_s2bm_ard_3\"  # Sentinel-2 B\n",
    "measurements = [\"nbart_red\", \"nbart_blue\", \"oa_s2cloudless_mask\"]\n",
    "output_crs = \"EPSG:3577\"\n",
    "resolution = [-30, 30]\n",
    "\n",
    "dask_chunks = {\n",
    "    \"time\": 1,  # Each time has its own chunk\n",
    "    \"y\": 500,  # Each tile is 500 pixels high\n",
    "    \"x\": 500  # Each tile is 500 pixels wide\n",
    "}\n",
    "\n",
    "ds = dc.load(product=product,\n",
    "             measurements=measurements,\n",
    "             crs=\"EPSG:3577\",\n",
    "             x=(x_min, x_max),\n",
    "             y=(y_min, y_max),\n",
    "             time=date_range,\n",
    "             output_crs=output_crs,\n",
    "             resolution=resolution,\n",
    "             dask_chunks=dask_chunks,\n",
    "             dataset_predicate=lambda ds: ds.metadata.dataset_maturity == \"final\",\n",
    "             skip_broken_datasets=True  # Important!\n",
    "             )"
   ]
  },
  {
   "cell_type": "code",
   "execution_count": null,
   "id": "6d24cd81-d13a-4db2-9112-2488a61cfeec",
   "metadata": {
    "editable": true,
    "slideshow": {
     "slide_type": ""
    },
    "tags": []
   },
   "outputs": [],
   "source": [
    "ds"
   ]
  },
  {
   "cell_type": "code",
   "execution_count": null,
   "id": "52776e46-e56b-4bac-8aee-10aa1e4b6be7",
   "metadata": {
    "editable": true,
    "slideshow": {
     "slide_type": ""
    },
    "tags": []
   },
   "outputs": [],
   "source": [
    "# Start a remote Dask cluster\n",
    "\n",
    "gateway = Gateway()\n",
    "\n",
    "# List available cluster options (optional)\n",
    "print(gateway.list_clusters())\n",
    "\n",
    "options = gateway.cluster_options()\n",
    "\n",
    "options.worker_cores = 1\n",
    "options.worker_threads = 1\n",
    "options.worker_memory = 2  # (GB)\n",
    "\n",
    "# Create a new cluster\n",
    "cluster = gateway.new_cluster(cluster_options=options)\n",
    "\n",
    "# Scale workers (optional)\n",
    "num_workers = 4\n",
    "cluster.scale(num_workers)  # or .adapt(minimum=4, maximum=16)\n",
    "\n",
    "# Connect to it\n",
    "client = Client(cluster)\n",
    "\n",
    "# Dashboard link (optional)\n",
    "print(client.dashboard_link)\n",
    "\n",
    "# Await cluster initialisation\n",
    "client.wait_for_workers(n_workers=num_workers)"
   ]
  },
  {
   "cell_type": "code",
   "execution_count": null,
   "id": "e57a6e3e-1783-47bf-b17c-ab1bdacfd990",
   "metadata": {},
   "outputs": [],
   "source": [
    "def get_session_client(credentials: Dict[str, str]):\n",
    "    \"\"\"\n",
    "    Return new boto3 client; using credentials dictionary if not None.\n",
    "    \"\"\"\n",
    "    session = boto3.session.Session()\n",
    "    if credentials:\n",
    "        client = session.client(\"s3\",\n",
    "                                aws_access_key_id=credentials[\"AWS_ACCESS_KEY_ID\"],\n",
    "                                aws_secret_access_key=credentials[\"AWS_SECRET_ACCESS_KEY\"],\n",
    "                                aws_session_token=credentials[\"AWS_SESSION_TOKEN\"]\n",
    "                               )\n",
    "    else:\n",
    "        client = session.client(\"s3\")\n",
    "    return client"
   ]
  },
  {
   "cell_type": "code",
   "execution_count": null,
   "id": "5d3e479d-c79f-4348-b9d6-1e5190c852f1",
   "metadata": {},
   "outputs": [],
   "source": [
    "def write_cog(da: xr.DataArray, fname: str, nodata: float) -> None:\n",
    "    \"\"\"\n",
    "    Write DataArray to COG.\n",
    "    \"\"\"\n",
    "    datacube.utils.cog.write_cog(geo_im=da, fname=fname, nodata=nodata)"
   ]
  },
  {
   "cell_type": "code",
   "execution_count": null,
   "id": "eb177aa4-372b-45cf-81be-39df2e86904a",
   "metadata": {},
   "outputs": [],
   "source": [
    "def write_data_to_s3(\n",
    "    binary_data: bytes,\n",
    "    bucket_name: str,\n",
    "    key: str,\n",
    "    credentials: Dict[str, str]\n",
    ") -> None:\n",
    "    \"\"\"\n",
    "    Write binary data to S3.\n",
    "    \"\"\"\n",
    "    client = get_session_client(credentials)\n",
    "    client.put_object(Body=binary_data, Bucket=bucket_name, Key=key)"
   ]
  },
  {
   "cell_type": "code",
   "execution_count": null,
   "id": "b13518f1-0325-40ca-9de8-46ff90091510",
   "metadata": {},
   "outputs": [],
   "source": [
    "def da_to_mem_cog(da: xr.DataArray, nodata: float) -> bytes:\n",
    "    \"\"\"\n",
    "    Create an in-memory COG from a DataArray.\n",
    "    \"\"\"\n",
    "    return datacube.utils.cog.write_cog(geo_im=da, fname=\":mem:\", nodata=nodata)"
   ]
  },
  {
   "cell_type": "code",
   "execution_count": null,
   "id": "a3c7e3f3-8f63-4a5a-b0a3-d766d438ed98",
   "metadata": {},
   "outputs": [],
   "source": [
    "def da_to_s3(\n",
    "    da: xr.DataArray,\n",
    "    nodata: float,\n",
    "    bucket: str,\n",
    "    key: str,\n",
    "    credentials: Dict[str, str]\n",
    ") -> None:\n",
    "    \"\"\"\n",
    "    Convert a DataArray to an in-memory COG and push it to S3.\n",
    "    \"\"\"\n",
    "    ms = da_to_mem_cog(da, nodata)\n",
    "    write_data_to_s3(ms, bucket, key, credentials)"
   ]
  },
  {
   "cell_type": "code",
   "execution_count": null,
   "id": "714de550-0c3f-41a4-b6d1-087c79662760",
   "metadata": {},
   "outputs": [],
   "source": [
    "def export_to_s3(\n",
    "    da: xr.DataArray,\n",
    "    nodata: float,\n",
    "    bucket: str,\n",
    "    key: str,\n",
    "    credentials: Dict[str, str]\n",
    ") -> delayed:\n",
    "    \"\"\"\n",
    "    Returns a delayed call to convert a DataArray to an in-memory COG and push it to S3.\n",
    "    \"\"\"\n",
    "    return delayed(da_to_s3)(da, nodata, bucket, key, credentials)"
   ]
  },
  {
   "cell_type": "code",
   "execution_count": null,
   "id": "99901849-6859-4057-a1c3-26910abca1ac",
   "metadata": {},
   "outputs": [],
   "source": [
    "# Define the computation\n",
    "no_clouds_ds = ds.where(ds[\"oa_s2cloudless_mask\"] == 1)\n",
    "ratio_ds = no_clouds_ds[\"nbart_red\"] / no_clouds_ds[\"nbart_blue\"]\n",
    "mean_ratio_da = ratio_ds.mean(dim=\"time\", skipna=True)"
   ]
  },
  {
   "cell_type": "code",
   "execution_count": null,
   "id": "674e1294-8f6b-459a-9c77-12792cdb9426",
   "metadata": {},
   "outputs": [],
   "source": [
    "# Persist to compute and hold the result in memory (spread across cluster)\n",
    "mean_ratio_da = mean_ratio_da.persist()"
   ]
  },
  {
   "cell_type": "code",
   "execution_count": null,
   "id": "c5aa81bd-265d-438b-8223-f864ca340098",
   "metadata": {},
   "outputs": [],
   "source": [
    "# Define the task to write the result to S3\n",
    "BUCKET = \"easihub-csiro-user-scratch\"\n",
    "USER_ID = boto3.client(\"sts\").get_caller_identity()[\"UserId\"]\n",
    "KEY = f\"{USER_ID}/test_cog.tif\"\n",
    "write_task = export_to_s3(mean_ratio_da, -999, BUCKET, KEY, None)"
   ]
  },
  {
   "cell_type": "code",
   "execution_count": null,
   "id": "52a887c7-2fb6-4fe9-a36c-5ccaeab5ae6e",
   "metadata": {},
   "outputs": [],
   "source": [
    "# Now write to Zarr, deferred\n",
    "#import s3fs\n",
    "#fs = s3fs.S3FileSystem(anon=False)\n",
    "#store = fs.get_mapper(\"s3://<bucket>/<key>.zarr\")\n",
    "#write_task = mean_ratio_da.to_zarr(store, mode=\"w\", consolidated=True, compute=False)"
   ]
  },
  {
   "cell_type": "code",
   "execution_count": null,
   "id": "8ad2342e-ed8c-49c0-a3bb-e05e840ddbca",
   "metadata": {},
   "outputs": [],
   "source": [
    "# Run the write to S3 task\n",
    "future = client.compute(write_task)"
   ]
  },
  {
   "cell_type": "code",
   "execution_count": null,
   "id": "144d7dd1-970e-49bb-b51d-419276e9e7df",
   "metadata": {},
   "outputs": [],
   "source": [
    "# Wait until complete\n",
    "result = client.gather(future)"
   ]
  },
  {
   "cell_type": "code",
   "execution_count": null,
   "id": "a2fe8476-a8ff-43d8-b834-f4938fce15ac",
   "metadata": {},
   "outputs": [],
   "source": [
    "# Clean-up\n",
    "client.close()\n",
    "cluster.close(shutdown=True)"
   ]
  },
  {
   "cell_type": "code",
   "execution_count": null,
   "id": "2bd92a40-419c-47ea-8109-081ee6427351",
   "metadata": {},
   "outputs": [],
   "source": [
    "# Test it worked by downloading the COG we just made from S3 to the local machine\n",
    "# and visualizing it."
   ]
  },
  {
   "cell_type": "code",
   "execution_count": null,
   "id": "b12ec791-5f22-4912-8f6a-e0de7449bb89",
   "metadata": {},
   "outputs": [],
   "source": [
    "# Copy file from S3 to local machine\n",
    "\n",
    "LOCAL_COG_FP = \"/home/jovyan/test_cog.tif\"\n",
    "\n",
    "client = get_session_client(None)\n",
    "client.download_file(BUCKET, KEY, LOCAL_COG_FP)"
   ]
  },
  {
   "cell_type": "code",
   "execution_count": null,
   "id": "c06da1b8-f610-4951-8a67-e8fac873134f",
   "metadata": {},
   "outputs": [],
   "source": [
    "cog_ds = xr.open_dataset(LOCAL_COG_FP)"
   ]
  },
  {
   "cell_type": "code",
   "execution_count": null,
   "id": "d8c333f2-df46-4694-84ad-d56a0688a1e4",
   "metadata": {},
   "outputs": [],
   "source": [
    "# Visualise mean ratio dataset\n",
    "\n",
    "band = cog_ds[\"band_data\"].isel(band=0)\n",
    "\n",
    "# Plot with xarray’s wrapper around matplotlib\n",
    "band.plot.imshow(cmap=\"viridis\")  # or cmap='gray', 'RdYlGn', etc.\n",
    "plt.title(\"Result\")\n",
    "plt.xlabel(\"x\")\n",
    "plt.ylabel(\"y\")\n",
    "plt.show()"
   ]
  },
  {
   "cell_type": "code",
   "execution_count": null,
   "id": "d91a1122-07d3-4f4c-a682-dd81494ba2fc",
   "metadata": {},
   "outputs": [],
   "source": [
    "os.remove(LOCAL_COG_FP)"
   ]
  },
  {
   "cell_type": "code",
   "execution_count": null,
   "id": "0aa8c5c5-7827-4a16-9569-ef5ca8152797",
   "metadata": {},
   "outputs": [],
   "source": []
  }
 ],
 "metadata": {
  "kernelspec": {
   "display_name": "Python 3 (ipykernel)",
   "language": "python",
   "name": "python3"
  },
  "language_info": {
   "codemirror_mode": {
    "name": "ipython",
    "version": 3
   },
   "file_extension": ".py",
   "mimetype": "text/x-python",
   "name": "python",
   "nbconvert_exporter": "python",
   "pygments_lexer": "ipython3",
   "version": "3.12.11"
  }
 },
 "nbformat": 4,
 "nbformat_minor": 5
}
