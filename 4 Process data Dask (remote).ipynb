{
 "cells": [
  {
   "cell_type": "markdown",
   "id": "b0bfea30-46f0-429e-bed6-f56e65f9d60c",
   "metadata": {
    "editable": true,
    "slideshow": {
     "slide_type": ""
    },
    "tags": []
   },
   "source": [
    "## Example processing Sentinel-2 data with Dask (remote cluster)"
   ]
  },
  {
   "cell_type": "code",
   "execution_count": null,
   "id": "12ade2ee-37d0-4142-bdfd-6c6c45e1efeb",
   "metadata": {
    "editable": true,
    "slideshow": {
     "slide_type": ""
    },
    "tags": []
   },
   "outputs": [],
   "source": [
    "import datacube\n",
    "from dask_gateway import Gateway\n",
    "from dask.distributed import Client\n",
    "import matplotlib.pyplot as plt\n",
    "import time"
   ]
  },
  {
   "cell_type": "code",
   "execution_count": null,
   "id": "735b405d-31ca-49c8-8994-8dbc1b12a524",
   "metadata": {
    "editable": true,
    "slideshow": {
     "slide_type": ""
    },
    "tags": []
   },
   "outputs": [],
   "source": [
    "# Initialise datacube\n",
    "\n",
    "dc = datacube.Datacube()"
   ]
  },
  {
   "cell_type": "code",
   "execution_count": null,
   "id": "4e7f6cba-05ae-45f2-883d-7d303366ef7b",
   "metadata": {
    "editable": true,
    "slideshow": {
     "slide_type": ""
    },
    "tags": []
   },
   "outputs": [],
   "source": [
    "# (Central NSW)\n",
    "x_min, x_max = 1200000, 1300000\n",
    "y_min, y_max = -3600000, -3700000\n",
    "date_range = (\"2024-01-01\", \"2024-02-28\")"
   ]
  },
  {
   "cell_type": "code",
   "execution_count": null,
   "id": "a376a5b9-5553-4ce5-88e6-b17f64db3733",
   "metadata": {
    "editable": true,
    "slideshow": {
     "slide_type": ""
    },
    "tags": []
   },
   "outputs": [],
   "source": [
    "# Load datasets (lazy)\n",
    "\n",
    "product = \"ga_s2bm_ard_3\"  # Sentinel-2 B\n",
    "measurements = [\"nbart_red\", \"nbart_blue\", \"oa_s2cloudless_mask\"]\n",
    "output_crs = \"EPSG:3577\"\n",
    "resolution = [-30, 30]\n",
    "\n",
    "dask_chunks = {\n",
    "    \"time\": 1,\n",
    "    \"y\": 500,\n",
    "    \"x\": 500\n",
    "}\n",
    "\n",
    "ds = dc.load(product=product,\n",
    "             measurements=measurements,\n",
    "             crs=\"EPSG:3577\",\n",
    "             x=(x_min, x_max),\n",
    "             y=(y_min, y_max),\n",
    "             time=date_range,\n",
    "             output_crs=output_crs,\n",
    "             resolution=resolution,\n",
    "             dask_chunks=dask_chunks,\n",
    "             dataset_predicate=lambda ds: ds.metadata.dataset_maturity == \"final\",\n",
    "             skip_broken_datasets=True  # Important!\n",
    "             )"
   ]
  },
  {
   "cell_type": "code",
   "execution_count": null,
   "id": "205f9d89-b1f0-43f3-943d-e82331299f08",
   "metadata": {
    "editable": true,
    "slideshow": {
     "slide_type": ""
    },
    "tags": []
   },
   "outputs": [],
   "source": [
    "# Define some computations\n",
    "\n",
    "no_clouds_ds = ds.where(ds[\"oa_s2cloudless_mask\"] == 1)\n",
    "ratio_ds = no_clouds_ds[\"nbart_red\"] / no_clouds_ds[\"nbart_blue\"]\n",
    "mean_ratio_ds = ratio_ds.mean(dim=\"time\", skipna=True)"
   ]
  },
  {
   "cell_type": "code",
   "execution_count": null,
   "id": "229f4439-31d3-4062-9ccb-7024897e0982",
   "metadata": {
    "editable": true,
    "slideshow": {
     "slide_type": ""
    },
    "tags": []
   },
   "outputs": [],
   "source": [
    "# Start a remote Dask cluster\n",
    "\n",
    "gateway = Gateway()\n",
    "\n",
    "# List available cluster options (optional)\n",
    "print(gateway.list_clusters())\n",
    "\n",
    "options = gateway.cluster_options()\n",
    "\n",
    "options.worker_cores = 1\n",
    "options.worker_threads = 1\n",
    "options.worker_memory = 1  # (GB)\n",
    "\n",
    "# Create a new cluster\n",
    "cluster = gateway.new_cluster(cluster_options=options)\n",
    "\n",
    "# Scale workers (optional)\n",
    "num_workers = 16\n",
    "cluster.scale(num_workers)  # or .adapt(minimum=4, maximum=16)\n",
    "\n",
    "# Connect to it\n",
    "client = Client(cluster)\n",
    "\n",
    "# Dashboard link (optional)\n",
    "print(client.dashboard_link)\n",
    "\n",
    "# Await cluster initialisation\n",
    "client.wait_for_workers(n_workers=num_workers)"
   ]
  },
  {
   "cell_type": "code",
   "execution_count": null,
   "id": "2727f845-21b4-49b5-aa2e-963370f738df",
   "metadata": {
    "editable": true,
    "slideshow": {
     "slide_type": ""
    },
    "tags": []
   },
   "outputs": [],
   "source": [
    "%%time\n",
    "mean_ratio_ds = mean_ratio_ds.compute()"
   ]
  },
  {
   "cell_type": "code",
   "execution_count": null,
   "id": "9f72c369-eb7b-4513-ace4-51e76ec6efc9",
   "metadata": {
    "editable": true,
    "slideshow": {
     "slide_type": ""
    },
    "tags": []
   },
   "outputs": [],
   "source": [
    "# Clean-up\n",
    "client.close()\n",
    "cluster.close(shutdown=True)"
   ]
  },
  {
   "cell_type": "code",
   "execution_count": null,
   "id": "a264bc3e-3aba-4d2b-aa2d-cf4f2acd657b",
   "metadata": {},
   "outputs": [],
   "source": [
    "mean_ratio_ds"
   ]
  },
  {
   "cell_type": "code",
   "execution_count": null,
   "id": "92cf3dac-be24-44e8-a827-665ccaae2d35",
   "metadata": {
    "editable": true,
    "slideshow": {
     "slide_type": ""
    },
    "tags": []
   },
   "outputs": [],
   "source": [
    "# Visualise mean ratio dataset\n",
    "\n",
    "band = mean_ratio_ds\n",
    "\n",
    "# Plot with xarray’s wrapper around matplotlib\n",
    "band.plot.imshow(cmap=\"viridis\")  # or cmap='gray', 'RdYlGn', etc.\n",
    "plt.title(\"Result\")\n",
    "plt.xlabel(\"x\")\n",
    "plt.ylabel(\"y\")\n",
    "plt.show()"
   ]
  },
  {
   "cell_type": "code",
   "execution_count": null,
   "id": "a51c5c07-81ec-4d65-91a4-2daacd208835",
   "metadata": {},
   "outputs": [],
   "source": []
  }
 ],
 "metadata": {
  "kernelspec": {
   "display_name": "Python 3 (ipykernel)",
   "language": "python",
   "name": "python3"
  },
  "language_info": {
   "codemirror_mode": {
    "name": "ipython",
    "version": 3
   },
   "file_extension": ".py",
   "mimetype": "text/x-python",
   "name": "python",
   "nbconvert_exporter": "python",
   "pygments_lexer": "ipython3",
   "version": "3.12.11"
  }
 },
 "nbformat": 4,
 "nbformat_minor": 5
}
